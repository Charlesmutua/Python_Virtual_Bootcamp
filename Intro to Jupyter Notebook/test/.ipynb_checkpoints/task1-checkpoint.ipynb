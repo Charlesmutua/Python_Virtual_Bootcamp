{
 "cells": [
  {
   "cell_type": "markdown",
   "metadata": {},
   "source": [
    "Write a python script on a cell in Jupyter Notebook that creates an output list which contains only the even numbers between 9 and 48."
   ]
  },
  {
   "cell_type": "code",
   "execution_count": 38,
   "metadata": {},
   "outputs": [
    {
     "name": "stdout",
     "output_type": "stream",
     "text": [
      "[10, 12, 14, 16, 18, 20, 22, 24, 26, 28, 30, 32, 34, 36, 38, 40, 42, 44, 46, 48]\n"
     ]
    }
   ],
   "source": [
    "My_list = [*range(9, 49)]\n",
    "even_no=[]\n",
    "\n",
    "for x in My_list:\n",
    "    if x%2==0:\n",
    "        even_no.append(x)\n",
    "        \n",
    "print(even_no)\n"
   ]
  },
  {
   "cell_type": "markdown",
   "metadata": {},
   "source": [
    "Task 2\n",
    "\n",
    "Write a python script on another cell in Jupyter Notebook that creates an output dictionary which contains only the preceding odd number as keys and the even number as values between 10 and 48."
   ]
  },
  {
   "cell_type": "code",
   "execution_count": 47,
   "metadata": {},
   "outputs": [
    {
     "name": "stdout",
     "output_type": "stream",
     "text": [
      "{'9': 10, '11': 12, '13': 14, '15': 16, '17': 18, '19': 20, '21': 22, '23': 24, '25': 26, '27': 28, '29': 30, '31': 32, '33': 34, '35': 36, '37': 38, '39': 40, '41': 42, '43': 44, '45': 46, '47': 48}\n"
     ]
    }
   ],
   "source": [
    "odd_no = []\n",
    "for y in My_list:\n",
    "    if y%2==1:\n",
    "        odd_no.append(y)\n",
    "odd_str = [str(i) for i in odd_no]\n",
    "#print(odd_str)\n",
    "#print(even_no)\n",
    "\n",
    "mydict=dict(zip(odd_str, even_no))\n",
    "\n",
    "print(mydict)\n",
    "        "
   ]
  },
  {
   "cell_type": "code",
   "execution_count": 60,
   "metadata": {},
   "outputs": [
    {
     "data": {
      "text/plain": [
       "{1: 1, 2: 4, 3: 9, 4: 16, 5: 25, 6: 36, 7: 49, 8: 64, 9: 81, 10: 100}"
      ]
     },
     "execution_count": 60,
     "metadata": {},
     "output_type": "execute_result"
    }
   ],
   "source": [
    "# create a dictionary that has 1 - 10\n",
    "\n",
    "multiple ={number: number ** 2 for number in range (1, 11)}\n",
    "multiple"
   ]
  },
  {
   "cell_type": "code",
   "execution_count": null,
   "metadata": {},
   "outputs": [],
   "source": []
  },
  {
   "cell_type": "code",
   "execution_count": null,
   "metadata": {},
   "outputs": [],
   "source": [
    "# Filter age 56"
   ]
  },
  {
   "cell_type": "code",
   "execution_count": 72,
   "metadata": {},
   "outputs": [
    {
     "data": {
      "text/plain": [
       "{'Charles': 40,\n",
       " 'Collo': 42,\n",
       " 'Joseph': 38,\n",
       " 'Peter': 33,\n",
       " 'Stephanie': 56,\n",
       " 'Susan': 57}"
      ]
     },
     "execution_count": 72,
     "metadata": {},
     "output_type": "execute_result"
    }
   ],
   "source": [
    "student_details = {\n",
    "    \"Charles\":40,\n",
    "    \"Collo\":42,\n",
    "    \"Joseph\": 38,\n",
    "    \"Peter\": 33,\n",
    "    \"Stephanie\": 56,\n",
    "    \"Susan\": 57\n",
    "}\n",
    "\n",
    "over_50 = {key:value for (key, value) in student_details.items() if value>50}\n",
    "over_50"
   ]
  }
 ],
 "metadata": {
  "kernelspec": {
   "display_name": "Python 3",
   "language": "python",
   "name": "python3"
  },
  "language_info": {
   "codemirror_mode": {
    "name": "ipython",
    "version": 3
   },
   "file_extension": ".py",
   "mimetype": "text/x-python",
   "name": "python",
   "nbconvert_exporter": "python",
   "pygments_lexer": "ipython3",
   "version": "3.7.6"
  }
 },
 "nbformat": 4,
 "nbformat_minor": 4
}
