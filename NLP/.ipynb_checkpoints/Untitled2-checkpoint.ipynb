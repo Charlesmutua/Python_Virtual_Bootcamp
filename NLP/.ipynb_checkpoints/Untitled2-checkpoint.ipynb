{
 "cells": [
  {
   "cell_type": "code",
   "execution_count": null,
   "metadata": {},
   "outputs": [],
   "source": [
    "from nltk.chat.util import Chat, reflections\n",
    "\n",
    "pairs = [\n",
    "    [\n",
    "        r\"my name is (.*)\",\n",
    "        [\"Hello %1, How are you today ?\",]\n",
    "    ],\n",
    "     [\n",
    "        r\"what is your name ?\",\n",
    "        [\"My name is Chatty and I'm a chatbot ?\",]\n",
    "    ],\n",
    "    [\n",
    "        r\"how are you ?\",\n",
    "        [\"I'm doing good\\nHow about You ?\",]\n",
    "    ],\n",
    "    [\n",
    "        r\"sorry (.*)\",\n",
    "        [\"Its alright\",\"Its OK, never mind\",]\n",
    "    ],\n",
    "    [r\"phone\",\n",
    "     [\"we have These Brands in Stock. Samsung, Huawei and Tecno. Which do you prefer?\"]\n",
    "    ],\n",
    "    [\"samsung\",\n",
    "    [\" Current Stock \\n S9 for KES 50,999 \\n S10 for 89,999 \\n A51 for 29,999\"]\n",
    "    ],\n",
    "    [\"tecno\",\n",
    "    [\" We currently have \\n camon15 for KES 15,999 \\n w4 for 9,999 \\n Spark 2 for 10,999\"]\n",
    "    ],\n",
    "    [\"huawei \",\n",
    "    [\"We have sold out all Huawei devices. We are expecting a restock soon\"]]\n",
    "    \n",
    "    \n",
    "]\n",
    "\n",
    "\n",
    "def vsales():\n",
    "    print(\"Hi, I'm a Virtual Sales Assistant at CK stores. we have phones, tvs and other appliances.\\n What are you looking for?Ask the price of any item. Type quit to leave \") #default message at the start\n",
    "    chat = Chat(pairs, reflections)\n",
    "    chat.converse()\n",
    "        \n",
    "if __name__ == \"__main__\":\n",
    "      vsales()\n",
    "        "
   ]
  },
  {
   "cell_type": "code",
   "execution_count": null,
   "metadata": {},
   "outputs": [],
   "source": []
  }
 ],
 "metadata": {
  "kernelspec": {
   "display_name": "Python 3",
   "language": "python",
   "name": "python3"
  },
  "language_info": {
   "codemirror_mode": {
    "name": "ipython",
    "version": 3
   },
   "file_extension": ".py",
   "mimetype": "text/x-python",
   "name": "python",
   "nbconvert_exporter": "python",
   "pygments_lexer": "ipython3",
   "version": "3.7.6"
  }
 },
 "nbformat": 4,
 "nbformat_minor": 4
}
