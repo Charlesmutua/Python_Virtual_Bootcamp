{
 "cells": [
  {
   "cell_type": "markdown",
   "metadata": {},
   "source": [
    "### QN 1:  Write a Python NLTK program that will read a given text through each line and look for sentences. Print each sentence and divide two sentences with \"==============\"."
   ]
  },
  {
   "cell_type": "code",
   "execution_count": 4,
   "metadata": {},
   "outputs": [],
   "source": [
    "import nltk\n",
    "from nltk.tokenize import sent_tokenize"
   ]
  },
  {
   "cell_type": "code",
   "execution_count": 8,
   "metadata": {},
   "outputs": [
    {
     "name": "stdout",
     "output_type": "stream",
     "text": [
      " This is My first sentence.\n",
      "====================================\n",
      "It is followed by a Second sentence.\n",
      "====================================\n",
      "Finally, this is the 3rd and last.\n",
      "====================================\n",
      "Let's see if we can tokenize this.\n",
      "====================================\n"
     ]
    }
   ],
   "source": [
    "sentence = \" This is My first sentence. It is followed by a Second sentence. Finally, this is the 3rd and last. Let's see if we can tokenize this.\"\n",
    "to_sentence = sent_tokenize(sentence)\n",
    "for _ in to_sentence:\n",
    "    print(_)\n",
    "    print(\"====================================\")\n"
   ]
  },
  {
   "cell_type": "markdown",
   "metadata": {},
   "source": [
    "## QN 2: Write a Python NLTK program to tokenize words, sentence wise"
   ]
  },
  {
   "cell_type": "code",
   "execution_count": 21,
   "metadata": {
    "scrolled": true
   },
   "outputs": [
    {
     "data": {
      "text/plain": [
       "['This',\n",
       " 'My',\n",
       " 'first',\n",
       " 'sentence',\n",
       " 'It',\n",
       " 'followed',\n",
       " 'Second',\n",
       " 'sentence',\n",
       " 'Finally',\n",
       " '3rd',\n",
       " 'last',\n",
       " 'Let',\n",
       " \"'s\",\n",
       " 'see',\n",
       " 'tokenize']"
      ]
     },
     "execution_count": 21,
     "metadata": {},
     "output_type": "execute_result"
    }
   ],
   "source": [
    "from nltk.tokenize import word_tokenize\n",
    "from nltk.corpus import stopwords\n",
    "\n",
    "stop_words = set(stopwords.words(\"english\")+[',', '.', ' '])\n",
    "to_word = word_tokenize(sentence)\n",
    "\n",
    "clean_words = [word for word in to_word if not word in stop_words]\n",
    "\n",
    "#to_word\n",
    "clean_words\n"
   ]
  },
  {
   "cell_type": "markdown",
   "metadata": {},
   "source": [
    "QN 3: Convert the following to lowercase\n",
    "\n",
    "The 5 biggest countries by population in 2017 are China, India, United States, Indonesia, and Brazil."
   ]
  },
  {
   "cell_type": "code",
   "execution_count": 38,
   "metadata": {},
   "outputs": [
    {
     "data": {
      "text/plain": [
       "'the 5 biggest countries by population in 2017 are china, india, united states, indonesia, and brazil.'"
      ]
     },
     "execution_count": 38,
     "metadata": {},
     "output_type": "execute_result"
    }
   ],
   "source": [
    "sent2 = \"The 5 biggest countries by population in 2017 are China, India, United States, Indonesia, and Brazil.\"\n",
    "\n",
    "sent2.lower()\n",
    "    \n",
    "\n"
   ]
  }
 ],
 "metadata": {
  "kernelspec": {
   "display_name": "Python 3",
   "language": "python",
   "name": "python3"
  },
  "language_info": {
   "codemirror_mode": {
    "name": "ipython",
    "version": 3
   },
   "file_extension": ".py",
   "mimetype": "text/x-python",
   "name": "python",
   "nbconvert_exporter": "python",
   "pygments_lexer": "ipython3",
   "version": "3.7.6"
  }
 },
 "nbformat": 4,
 "nbformat_minor": 4
}
