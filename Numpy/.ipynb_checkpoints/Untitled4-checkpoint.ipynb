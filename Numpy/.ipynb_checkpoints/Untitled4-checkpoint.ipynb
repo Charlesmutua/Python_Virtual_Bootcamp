{
 "cells": [
  {
   "cell_type": "markdown",
   "metadata": {},
   "source": [
    "Question 1\n",
    "Write a Pandas program to create the mean and standard deviation of the data of a given Series.\n",
    "Original Data Series:\n",
    "0 1\n",
    "1 2\n",
    "2 3\n",
    "3 4\n",
    "4 5\n",
    "5 6\n",
    "6 7\n",
    "7 8\n",
    "8 9\n",
    "9 5\n",
    "10 3"
   ]
  },
  {
   "cell_type": "code",
   "execution_count": 11,
   "metadata": {},
   "outputs": [
    {
     "name": "stdout",
     "output_type": "stream",
     "text": [
      "The Standard Deviation is: 2.522624895547565\n",
      "The Mean is: 4.818181818181818\n"
     ]
    }
   ],
   "source": [
    "import numpy as np\n",
    "import pandas as pd\n",
    "\n",
    "qn1_series = pd.Series([1,2,3,4,5,6,7,8,9,5,3])\n",
    "print (f'The Standard Deviation is: {qn1_series.std()}')\n",
    "print (f'The Mean is: {qn1_series.mean()}')\n"
   ]
  },
  {
   "cell_type": "markdown",
   "metadata": {},
   "source": [
    "### Question 2"
   ]
  },
  {
   "cell_type": "code",
   "execution_count": null,
   "metadata": {},
   "outputs": [],
   "source": [
    "Write a Pandas program to compute the minimum, 25th percentile,\n",
    "median, 75th, and maximum of a given series.\n",
    "0 3.000938\n",
    "1 11.370722\n",
    "2 14.612143\n",
    "3 8.990256\n",
    "4 13.925283\n",
    "5 12.056875"
   ]
  },
  {
   "cell_type": "markdown",
   "metadata": {},
   "source": [
    "Percentile = The percentage of scores that a given value is higher or Greayer than\n",
    "\n",
    "eg. One in the 75th percentile needs 75 and above"
   ]
  },
  {
   "cell_type": "code",
   "execution_count": null,
   "metadata": {},
   "outputs": [],
   "source": []
  },
  {
   "cell_type": "code",
   "execution_count": 36,
   "metadata": {},
   "outputs": [
    {
     "name": "stdout",
     "output_type": "stream",
     "text": [
      "The Median is : 11.7137985\n",
      "The Minimum percentile is : 3.000938\n",
      "The 25th percentile is : 9.5853725\n",
      "The 75th percentile is : 13.458181\n",
      "The Maximum percentile is : 14.612143\n"
     ]
    }
   ],
   "source": [
    "q2_series = pd.Series([3.000938,11.370722,14.612143,8.990256,13.925283,12.056875])\n",
    "\n",
    "print (f'The Median is : {q2_series.median()}')\n",
    "print (f'The Minimum percentile is : {q2_series.quantile(.0)}')\n",
    "print (f'The 25th percentile is : {q2_series.quantile(.25)}')\n",
    "print (f'The 75th percentile is : {q2_series.quantile(.75)}')\n",
    "print (f'The Maximum percentile is : {q2_series.quantile(1)}')\n",
    "\n"
   ]
  },
  {
   "cell_type": "markdown",
   "metadata": {},
   "source": [
    "Write a Pandas program to display most frequent value in a given series and replace everything else as ‘Other’ in the series.\n"
   ]
  },
  {
   "cell_type": "code",
   "execution_count": 47,
   "metadata": {},
   "outputs": [
    {
     "data": {
      "text/plain": [
       "0     Other\n",
       "1         3\n",
       "2     Other\n",
       "3         3\n",
       "4     Other\n",
       "5         1\n",
       "6         2\n",
       "7     Other\n",
       "8     Other\n",
       "9         2\n",
       "10        3\n",
       "11        3\n",
       "12        1\n",
       "13        2\n",
       "14        1\n",
       "dtype: object"
      ]
     },
     "execution_count": 47,
     "metadata": {},
     "output_type": "execute_result"
    }
   ],
   "source": [
    "q3_series = pd.Series([4,3,4,3,4,1,2,4,4,2,3,3,1,2,1])\n",
    "\n",
    "most_frequent = q3_series.mode()\n",
    "\n",
    "\n",
    "\n",
    "replaced = q3_series.replace(to_replace = 4, value = 'Other')\n",
    "replaced\n",
    "\n"
   ]
  },
  {
   "cell_type": "code",
   "execution_count": null,
   "metadata": {},
   "outputs": [],
   "source": []
  }
 ],
 "metadata": {
  "kernelspec": {
   "display_name": "Python 3",
   "language": "python",
   "name": "python3"
  },
  "language_info": {
   "codemirror_mode": {
    "name": "ipython",
    "version": 3
   },
   "file_extension": ".py",
   "mimetype": "text/x-python",
   "name": "python",
   "nbconvert_exporter": "python",
   "pygments_lexer": "ipython3",
   "version": "3.7.6"
  }
 },
 "nbformat": 4,
 "nbformat_minor": 4
}
