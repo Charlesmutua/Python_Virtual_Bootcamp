{
 "cells": [
  {
   "cell_type": "code",
   "execution_count": 4,
   "metadata": {},
   "outputs": [
    {
     "data": {
      "text/plain": [
       "array([[       nan, 0.30163819,        nan],\n",
       "       [0.54629113, 0.67017515, 0.9620984 ],\n",
       "       [0.71410713,        nan, 0.56288168],\n",
       "       [       nan, 0.60435705, 0.83555395]])"
      ]
     },
     "execution_count": 4,
     "metadata": {},
     "output_type": "execute_result"
    }
   ],
   "source": [
    "import numpy as np\n",
    "nan = np.nan\n",
    "\n",
    "n = np.array([[nan, 0.30163819, nan],\n",
    "       [0.54629113, 0.67017515, 0.9620984 ],\n",
    "       [0.71410713, nan, 0.56288168],\n",
    "       [ nan, 0.60435705, 0.83555395]])\n",
    "\n",
    "num_one = np.nan_to_num(n)\n",
    "n\n"
   ]
  },
  {
   "cell_type": "code",
   "execution_count": 7,
   "metadata": {},
   "outputs": [
    {
     "data": {
      "text/plain": [
       "array([[0.43309189, 0.30163819, 0.43309189],\n",
       "       [0.54629113, 0.67017515, 0.9620984 ],\n",
       "       [0.71410713, 0.43309189, 0.56288168],\n",
       "       [0.43309189, 0.60435705, 0.83555395]])"
      ]
     },
     "execution_count": 7,
     "metadata": {},
     "output_type": "execute_result"
    }
   ],
   "source": [
    "num_two = np.nan_to_num(n)\n",
    "num_two =np.where(num_two==0. ,np.mean(num_two), num_two)\n",
    "num_two"
   ]
  },
  {
   "cell_type": "code",
   "execution_count": 13,
   "metadata": {},
   "outputs": [
    {
     "ename": "SyntaxError",
     "evalue": "invalid syntax (<ipython-input-13-085d4ec67b79>, line 2)",
     "output_type": "error",
     "traceback": [
      "\u001b[1;36m  File \u001b[1;32m\"<ipython-input-13-085d4ec67b79>\"\u001b[1;36m, line \u001b[1;32m2\u001b[0m\n\u001b[1;33m    num_three = np.where(num_three==0, np.mean(num_three, axis = ), 1)\u001b[0m\n\u001b[1;37m                                                                 ^\u001b[0m\n\u001b[1;31mSyntaxError\u001b[0m\u001b[1;31m:\u001b[0m invalid syntax\n"
     ]
    }
   ],
   "source": [
    "num_three = np.nan_to_num(n)\n",
    "num_three = np.where(num_three==0, np.mean(num_three, axis = ), 1)\n",
    "num_three"
   ]
  },
  {
   "cell_type": "code",
   "execution_count": null,
   "metadata": {},
   "outputs": [],
   "source": []
  }
 ],
 "metadata": {
  "kernelspec": {
   "display_name": "Python 3",
   "language": "python",
   "name": "python3"
  },
  "language_info": {
   "codemirror_mode": {
    "name": "ipython",
    "version": 3
   },
   "file_extension": ".py",
   "mimetype": "text/x-python",
   "name": "python",
   "nbconvert_exporter": "python",
   "pygments_lexer": "ipython3",
   "version": "3.7.6"
  }
 },
 "nbformat": 4,
 "nbformat_minor": 4
}
