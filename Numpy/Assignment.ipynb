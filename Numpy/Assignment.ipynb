{
 "cells": [
  {
   "cell_type": "markdown",
   "metadata": {},
   "source": [
    "Question 1\n",
    "Write a Pandas program to create the mean and standard deviation of the data of a given Series.\n",
    "Original Data Series:\n",
    "0 1\n",
    "1 2\n",
    "2 3\n",
    "3 4\n",
    "4 5\n",
    "5 6\n",
    "6 7\n",
    "7 8\n",
    "8 9\n",
    "9 5\n",
    "10 3\n",
    "Question 2\n",
    "Write a Pandas program to compute the minimum, 25th percentile, median, 75th, and maximum of a given series.\n",
    "\n",
    "Original Series:\n",
    "0 3.000938\n",
    "1 11.370722\n",
    "2 14.612143\n",
    "3 8.990256\n",
    "4 13.925283\n",
    "5 12.056875\n",
    "17 14.118931\n",
    "18 8.247458\n",
    "19 5.526727\n",
    "\n",
    "Question 3\n",
    "Write a Pandas program to display most frequent value in a given series and replace everything else as ‘Other’ in the series.\n",
    "\n",
    "Original Series:\n",
    "0     4\n",
    "1     3\n",
    "2     4\n",
    "3     3\n",
    "4     4\n",
    "5     1\n",
    "6     2\n",
    "7     4\n",
    "8     4\n",
    "9     2\n",
    "10    3\n",
    "11    3\n",
    "12    1\n",
    "13    2\n",
    "14    1"
   ]
  }
 ],
 "metadata": {
  "kernelspec": {
   "display_name": "Python 3",
   "language": "python",
   "name": "python3"
  },
  "language_info": {
   "codemirror_mode": {
    "name": "ipython",
    "version": 3
   },
   "file_extension": ".py",
   "mimetype": "text/x-python",
   "name": "python",
   "nbconvert_exporter": "python",
   "pygments_lexer": "ipython3",
   "version": "3.7.6"
  }
 },
 "nbformat": 4,
 "nbformat_minor": 4
}
