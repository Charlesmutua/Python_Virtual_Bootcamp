{
 "cells": [
  {
   "cell_type": "code",
   "execution_count": 1,
   "metadata": {},
   "outputs": [],
   "source": [
    "import pandas as pd"
   ]
  },
  {
   "cell_type": "code",
   "execution_count": 16,
   "metadata": {},
   "outputs": [
    {
     "data": {
      "text/html": [
       "<div>\n",
       "<style scoped>\n",
       "    .dataframe tbody tr th:only-of-type {\n",
       "        vertical-align: middle;\n",
       "    }\n",
       "\n",
       "    .dataframe tbody tr th {\n",
       "        vertical-align: top;\n",
       "    }\n",
       "\n",
       "    .dataframe thead th {\n",
       "        text-align: right;\n",
       "    }\n",
       "</style>\n",
       "<table border=\"1\" class=\"dataframe\">\n",
       "  <thead>\n",
       "    <tr style=\"text-align: right;\">\n",
       "      <th></th>\n",
       "      <th>year</th>\n",
       "      <th>runtime</th>\n",
       "      <th>rating</th>\n",
       "      <th>votes</th>\n",
       "      <th>revenue</th>\n",
       "      <th>metascore</th>\n",
       "    </tr>\n",
       "  </thead>\n",
       "  <tbody>\n",
       "    <tr>\n",
       "      <th>count</th>\n",
       "      <td>1000.000000</td>\n",
       "      <td>1000.000000</td>\n",
       "      <td>1000.000000</td>\n",
       "      <td>1.000000e+03</td>\n",
       "      <td>1000.000000</td>\n",
       "      <td>1000.000000</td>\n",
       "    </tr>\n",
       "    <tr>\n",
       "      <th>mean</th>\n",
       "      <td>2012.783000</td>\n",
       "      <td>113.172000</td>\n",
       "      <td>6.723200</td>\n",
       "      <td>1.698083e+05</td>\n",
       "      <td>82.956376</td>\n",
       "      <td>58.985043</td>\n",
       "    </tr>\n",
       "    <tr>\n",
       "      <th>std</th>\n",
       "      <td>3.205962</td>\n",
       "      <td>18.810908</td>\n",
       "      <td>0.945429</td>\n",
       "      <td>1.887626e+05</td>\n",
       "      <td>96.412043</td>\n",
       "      <td>16.634858</td>\n",
       "    </tr>\n",
       "    <tr>\n",
       "      <th>min</th>\n",
       "      <td>2006.000000</td>\n",
       "      <td>66.000000</td>\n",
       "      <td>1.900000</td>\n",
       "      <td>6.100000e+01</td>\n",
       "      <td>0.000000</td>\n",
       "      <td>11.000000</td>\n",
       "    </tr>\n",
       "    <tr>\n",
       "      <th>25%</th>\n",
       "      <td>2010.000000</td>\n",
       "      <td>100.000000</td>\n",
       "      <td>6.200000</td>\n",
       "      <td>3.630900e+04</td>\n",
       "      <td>17.442500</td>\n",
       "      <td>47.750000</td>\n",
       "    </tr>\n",
       "    <tr>\n",
       "      <th>50%</th>\n",
       "      <td>2014.000000</td>\n",
       "      <td>111.000000</td>\n",
       "      <td>6.800000</td>\n",
       "      <td>1.107990e+05</td>\n",
       "      <td>60.375000</td>\n",
       "      <td>58.985043</td>\n",
       "    </tr>\n",
       "    <tr>\n",
       "      <th>75%</th>\n",
       "      <td>2016.000000</td>\n",
       "      <td>123.000000</td>\n",
       "      <td>7.400000</td>\n",
       "      <td>2.399098e+05</td>\n",
       "      <td>99.177500</td>\n",
       "      <td>71.000000</td>\n",
       "    </tr>\n",
       "    <tr>\n",
       "      <th>max</th>\n",
       "      <td>2016.000000</td>\n",
       "      <td>191.000000</td>\n",
       "      <td>9.000000</td>\n",
       "      <td>1.791916e+06</td>\n",
       "      <td>936.630000</td>\n",
       "      <td>100.000000</td>\n",
       "    </tr>\n",
       "  </tbody>\n",
       "</table>\n",
       "</div>"
      ],
      "text/plain": [
       "              year      runtime       rating         votes      revenue  \\\n",
       "count  1000.000000  1000.000000  1000.000000  1.000000e+03  1000.000000   \n",
       "mean   2012.783000   113.172000     6.723200  1.698083e+05    82.956376   \n",
       "std       3.205962    18.810908     0.945429  1.887626e+05    96.412043   \n",
       "min    2006.000000    66.000000     1.900000  6.100000e+01     0.000000   \n",
       "25%    2010.000000   100.000000     6.200000  3.630900e+04    17.442500   \n",
       "50%    2014.000000   111.000000     6.800000  1.107990e+05    60.375000   \n",
       "75%    2016.000000   123.000000     7.400000  2.399098e+05    99.177500   \n",
       "max    2016.000000   191.000000     9.000000  1.791916e+06   936.630000   \n",
       "\n",
       "         metascore  \n",
       "count  1000.000000  \n",
       "mean     58.985043  \n",
       "std      16.634858  \n",
       "min      11.000000  \n",
       "25%      47.750000  \n",
       "50%      58.985043  \n",
       "75%      71.000000  \n",
       "max     100.000000  "
      ]
     },
     "execution_count": 16,
     "metadata": {},
     "output_type": "execute_result"
    }
   ],
   "source": [
    "movies = pd.read_csv('movies.csv', index_col='rank')\n",
    "movies.describe() # Picks integers and Floats"
   ]
  },
  {
   "cell_type": "markdown",
   "metadata": {},
   "source": [
    "### 1. Data Wrangling (Check Whether there are any null values, duplicates, data format -utf8 encoded)\n",
    "\n",
    "#### Measure of central tendency - \n",
    "* mean (Continuous variable i.e sales, income...,\n",
    "* mode - Most repeated - Count/ categorical variable eg. male/female \n",
    "* Median - middle value when you **sort data**, ordinal data\n",
    "\n",
    "#### Dropping an entire colum\n",
    "* A very large no. of values is missing - More than 40% - To avoid biasness\n",
    "#### NB: Take not to loose so much data which might cause underfit in your modelling.\n",
    "* Sampling - Random, Cluster .. How many samples you would take for your right inference.\n",
    "* Pick a % atleast  > 8% population"
   ]
  },
  {
   "cell_type": "markdown",
   "metadata": {},
   "source": [
    "### 2. Descriptive Statistics (Exploratory Data Analysis - EDA)\n",
    "#### Get to explain your Data with frequency tables - distributed mct, variation(dtd dev/var) and visualizations - Charts\n",
    "#### Data normalization \n",
    "* Remove outlier - eg avg. 70k...max 1m - -12M would be an oulier\n",
    "\n",
    "####  visualizations ( Charts)\n",
    "* Pie Chart - Categorical data with less that 10 categories eg. Gender\n",
    "* Bar/ Column Chart - Categorical data with many categories.\n",
    "* Line Chart - Time Series- Data collected over time\n",
    "* Scatter plot - Data points are spread out. Trend\n",
    "* Box Plot  - Outliers, max, min, 75th %ile, 25th %ile, mean/median\n",
    "* Histogram - Frequency (Count) distribution of sorted data. Perfectly normally distributed will form a bell shaped histogram.\n",
    "\n",
    "#### Data normalization \n",
    "* Normally skewness\n",
    "* Skewness Right/Left\n",
    "\n",
    "#### Kurtosis\n",
    "\n"
   ]
  },
  {
   "cell_type": "code",
   "execution_count": 19,
   "metadata": {
    "scrolled": true
   },
   "outputs": [
    {
     "data": {
      "text/plain": [
       "Action,Adventure,Sci-Fi       50\n",
       "Drama                         48\n",
       "Comedy,Drama,Romance          35\n",
       "Comedy                        32\n",
       "Drama,Romance                 31\n",
       "Action,Adventure,Fantasy      27\n",
       "Comedy,Drama                  27\n",
       "Animation,Adventure,Comedy    27\n",
       "Comedy,Romance                26\n",
       "Crime,Drama,Thriller          24\n",
       "Crime,Drama,Mystery           23\n",
       "Action,Adventure,Drama        18\n",
       "Action,Crime,Drama            17\n",
       "Horror,Thriller               16\n",
       "Drama,Thriller                15\n",
       "Action,Adventure,Comedy       14\n",
       "Adventure,Family,Fantasy      14\n",
       "Biography,Drama,History       14\n",
       "Biography,Drama               14\n",
       "Action,Crime,Thriller         12\n",
       "Action,Comedy,Crime           12\n",
       "Action,Adventure,Thriller     11\n",
       "Horror                        11\n",
       "Crime,Drama                   10\n",
       "Action,Thriller                9\n",
       "Name: genre, dtype: int64"
      ]
     },
     "execution_count": 19,
     "metadata": {},
     "output_type": "execute_result"
    }
   ],
   "source": [
    "movies['genre'].value_counts().head(25)"
   ]
  },
  {
   "cell_type": "markdown",
   "metadata": {},
   "source": [
    "####  Correlation - Explaining the relationship between continuous variables.\n",
    "* Correlation coefficient - value 0 and 1( 0 and 100%)\n",
    "* 0 - 0.3 - Low correlation\n",
    "* 0.31 - 0.55 - Average correlation\n",
    "* 0.56 -1 - Strong correlation\n",
    "\n",
    "* Positive correlation - when one goes up, the other goes up and vise versa.\n",
    "* Negative correlation - they go to different directions\n",
    "\n",
    "###### .75 eg. Sales and marketing have a strong positive correlation\n",
    "###### 0.34 E.g Price and sales have a negative correlation\n",
    "\n"
   ]
  },
  {
   "cell_type": "code",
   "execution_count": null,
   "metadata": {},
   "outputs": [],
   "source": [
    "movies.corr()"
   ]
  }
 ],
 "metadata": {
  "kernelspec": {
   "display_name": "Python 3",
   "language": "python",
   "name": "python3"
  },
  "language_info": {
   "codemirror_mode": {
    "name": "ipython",
    "version": 3
   },
   "file_extension": ".py",
   "mimetype": "text/x-python",
   "name": "python",
   "nbconvert_exporter": "python",
   "pygments_lexer": "ipython3",
   "version": "3.7.6"
  }
 },
 "nbformat": 4,
 "nbformat_minor": 4
}
